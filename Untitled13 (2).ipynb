{
 "cells": [
  {
   "cell_type": "code",
   "execution_count": 45,
   "id": "73286dcf-207b-4695-a4d6-3e188e26681a",
   "metadata": {},
   "outputs": [],
   "source": [
    "import random\n",
    "\n",
    "def load_accounts():\n",
    "    accounts = {}\n",
    "    try:\n",
    "        with open('banechka.txt', 'r') as f:\n",
    "            for line in f:\n",
    "                account_id, balance = line.strip().split(':')\n",
    "                accounts[account_id] = float(balance)\n",
    "    except FileNotFoundError:\n",
    "        print(\"Ошибка: файл banechka.txt не найден.\")\n",
    "    except ValueError:\n",
    "        print(\"Ошибка в файле: проверьте корректность данных.\")\n",
    "    return accounts"
   ]
  },
  {
   "cell_type": "code",
   "execution_count": 47,
   "id": "7f0c76f9-5716-45bf-ad82-efe540cb02fd",
   "metadata": {},
   "outputs": [
    {
     "name": "stdout",
     "output_type": "stream",
     "text": [
      "{'40817xx1': 696.0, '40817xx2': 963.0, '40817xx3': 374.0, '40817xx4': 62.0, '40817xx5': 30.0, '40817xx6': 728.0, '40817xx7': 836.0, '40817xx8': 843.0, '40817xx9': 609.0, '40817xx10': 420.0, '40817xx11': 705.0, '40817xx12': 893.0, '40817xx13': 0.0, '40817xx14': 0.0, '40817xx15': 0.0, '40817xx16': 0.0, '40817xx17': 0.0, '40817xx18': 0.0, '40817xx19': 0.0, '40817xx20': 0.0, '40817xx21': 0.0, '40817xx22': 0.0, '40817xx23': 0.0, '40817xx24': 0.0, '40817xx25': 0.0, '40817xx26': 0.0, '40817xx27': 0.0, '40817xx28': 0.0, '40817xx29': 0.0, '40817xx30': 0.0, '40817xx31': 0.0, '40817xx32': 0.0, '40817xx33': 0.0, '40817xx34': 0.0}\n"
     ]
    }
   ],
   "source": [
    "banechka = load_accounts()\n",
    "print(banechka)\n"
   ]
  },
  {
   "cell_type": "code",
   "execution_count": 49,
   "id": "f8ef8558-d7d7-4b88-b9b3-413d0a6f99fa",
   "metadata": {},
   "outputs": [],
   "source": [
    "def create_account(banechka):\n",
    "    new_number = len(banechka) + 1 \n",
    "    new_id = f\"40817xx{new_number}\"\n",
    "    \n",
    "    if new_id in banechka:\n",
    "        print(\"Ошибка: счет уже существует\")\n",
    "    else:\n",
    "        banechka[new_id] = 0.0\n",
    "        print(f\"Создан новый счет: {new_id}:0.0\")\n",
    "\n"
   ]
  },
  {
   "cell_type": "code",
   "execution_count": 51,
   "id": "4908dcd2-7fd0-44ab-9230-e6fe3a262bc3",
   "metadata": {},
   "outputs": [
    {
     "name": "stdout",
     "output_type": "stream",
     "text": [
      "Создан новый счет: 40817xx35:0.0\n"
     ]
    }
   ],
   "source": [
    "create_account(banechka) "
   ]
  },
  {
   "cell_type": "code",
   "execution_count": 29,
   "id": "db758bfc-ed67-41c3-a55e-a06c1e54afe0",
   "metadata": {},
   "outputs": [],
   "source": [
    "def deposit(banechka, account_id, amount):\n",
    "    try:\n",
    "        amount = float(amount)  \n",
    "        if amount <= 0:\n",
    "            print(\"Ошибка: сумма должна быть положительной\")\n",
    "        elif account_id not in banechka:\n",
    "            print(\"Ошибка: счёт не найден\")\n",
    "        else:\n",
    "            banechka[account_id] += amount  \n",
    "            print(f\"Счёт {account_id} пополнен на {amount}. Новый баланс: {banechka[account_id]}\")\n",
    "    except ValueError:\n",
    "        print(\"Ошибка: сумма должна быть числом\")\n"
   ]
  },
  {
   "cell_type": "code",
   "execution_count": 67,
   "id": "e2663530-ec33-4bf1-a90e-3ced0ee6c9a7",
   "metadata": {},
   "outputs": [
    {
     "name": "stdout",
     "output_type": "stream",
     "text": [
      "Счёт 40817xx1 пополнен на 500.0. Новый баланс: 2296.0\n"
     ]
    }
   ],
   "source": [
    "deposit(banechka, \"40817xx1\", 500) "
   ]
  },
  {
   "cell_type": "code",
   "execution_count": 33,
   "id": "10276916-28f0-4e0d-96f5-d579bba826a9",
   "metadata": {},
   "outputs": [],
   "source": [
    "def withdraw(banechka, account_id, amount):\n",
    "    try:\n",
    "        amount = float(amount)  \n",
    "        if amount <= 0:\n",
    "            print(\"Ошибка: сумма должна быть положительной\")\n",
    "        elif account_id not in banechka:\n",
    "            print(\"Ошибка: счёт не найден\")\n",
    "        elif banechka[account_id] < amount:\n",
    "            print(\"Ошибка: недостаточно средств\")\n",
    "        else:\n",
    "            banechka[account_id] -= amount  \n",
    "            print(f\"Со счёта {account_id} снято {amount}. Остаток: {banechka[account_id]}\")\n",
    "    except ValueError:\n",
    "        print(\"Ошибка: сумма должна быть числом\")"
   ]
  },
  {
   "cell_type": "code",
   "execution_count": 69,
   "id": "b4849bf3-2f2a-4eee-acf5-4216384f389e",
   "metadata": {},
   "outputs": [
    {
     "name": "stdout",
     "output_type": "stream",
     "text": [
      "Со счёта 40817xx1 снято 300.0. Остаток: 1996.0\n"
     ]
    }
   ],
   "source": [
    "withdraw(banechka, \"40817xx1\", 300) "
   ]
  },
  {
   "cell_type": "code",
   "execution_count": 73,
   "id": "c2ad3c71-e5b8-4c00-9082-c6cdb3b15808",
   "metadata": {},
   "outputs": [],
   "source": [
    "def save_accounts(banechka):\n",
    "    \n",
    "    with open(\"banechka_upd.txt\", \"w\") as f:\n",
    "        for account_id in banechka:\n",
    "            balance = banechka[account_id]\n",
    "            f.write(f\"{account_id}:{balance}\\n\")\n",
    "\n",
    "\n",
    "    with open(\"banechka_new.txt\", \"w\") as f: \n",
    "        for account_id in banechka:\n",
    "            balance = banechka[account_id]\n",
    "            if balance == 0.0:\n",
    "                f.write(f\"{account_id}:{balance}\\n\")\n",
    "\n",
    "    with open(\"banechka_priv.txt\", \"w\") as f:\n",
    "        for account_id in banechka:\n",
    "            balance = banechka[account_id]\n",
    "            if balance > 1000:\n",
    "                f.write(f\"{account_id}:{balance}\\n\")"
   ]
  },
  {
   "cell_type": "code",
   "execution_count": 75,
   "id": "5bb82017-7c8d-4192-a6ce-17e12a0503a0",
   "metadata": {},
   "outputs": [],
   "source": [
    "save_accounts(banechka) "
   ]
  },
  {
   "cell_type": "code",
   "execution_count": 77,
   "id": "39c37f6b-e6bb-419f-aa8f-893b79548b5f",
   "metadata": {},
   "outputs": [
    {
     "name": "stdout",
     "output_type": "stream",
     "text": [
      "Создан новый счет: 40817xx35:0.0\n",
      "Создан новый счет: 40817xx36:0.0\n",
      "Создан новый счет: 40817xx37:0.0\n",
      "Создан новый счет: 40817xx38:0.0\n",
      "Создан новый счет: 40817xx39:0.0\n",
      "Создан новый счет: 40817xx40:0.0\n",
      "Создан новый счет: 40817xx41:0.0\n",
      "Создан новый счет: 40817xx42:0.0\n",
      "Создан новый счет: 40817xx43:0.0\n",
      "Создан новый счет: 40817xx44:0.0\n"
     ]
    }
   ],
   "source": [
    "import random\n",
    "banechka = load_accounts()\n",
    "\n",
    "for _ in range(10):\n",
    "    create_account(banechka)"
   ]
  },
  {
   "cell_type": "code",
   "execution_count": 81,
   "id": "d6375279-ab33-4d44-bdb7-4777c2ce8047",
   "metadata": {},
   "outputs": [
    {
     "name": "stdout",
     "output_type": "stream",
     "text": [
      "Счёт 40817xx37 пополнен на 165.49937506442996. Новый баланс: 165.49937506442996\n",
      "Счёт 40817xx2 пополнен на 191.86501916753247. Новый баланс: 1154.8650191675324\n",
      "Счёт 40817xx43 пополнен на 308.3043819649426. Новый баланс: 308.3043819649426\n",
      "Счёт 40817xx20 пополнен на 741.6464874212899. Новый баланс: 741.6464874212899\n",
      "Счёт 40817xx7 пополнен на 710.8614580451551. Новый баланс: 1546.8614580451551\n",
      "Счёт 40817xx1 пополнен на 706.3118075044534. Новый баланс: 1402.3118075044536\n",
      "Счёт 40817xx31 пополнен на 146.86136225283045. Новый баланс: 146.86136225283045\n",
      "Счёт 40817xx36 пополнен на 914.5009679459674. Новый баланс: 914.5009679459674\n",
      "Счёт 40817xx28 пополнен на 601.6381915840229. Новый баланс: 601.6381915840229\n",
      "Счёт 40817xx24 пополнен на 647.177206237938. Новый баланс: 647.177206237938\n"
     ]
    }
   ],
   "source": [
    "for _ in range(10):\n",
    "    account_id = random.choice(list(banechka))  \n",
    "    amount = random.uniform(10, 1000)  \n",
    "    deposit(banechka, account_id, amount)"
   ]
  },
  {
   "cell_type": "code",
   "execution_count": 83,
   "id": "e47a934e-f66b-408f-8f91-b1b0c202dc66",
   "metadata": {},
   "outputs": [
    {
     "name": "stdin",
     "output_type": "stream",
     "text": [
      "Введите сумму для снятия со счета 40817xx4:  12\n"
     ]
    },
    {
     "name": "stdout",
     "output_type": "stream",
     "text": [
      "Со счёта 40817xx4 снято 12.0. Остаток: 50.0\n"
     ]
    },
    {
     "name": "stdin",
     "output_type": "stream",
     "text": [
      "Введите сумму для снятия со счета 40817xx1:  3\n"
     ]
    },
    {
     "name": "stdout",
     "output_type": "stream",
     "text": [
      "Со счёта 40817xx1 снято 3.0. Остаток: 1399.3118075044536\n"
     ]
    },
    {
     "name": "stdin",
     "output_type": "stream",
     "text": [
      "Введите сумму для снятия со счета 40817xx5:  4545\n"
     ]
    },
    {
     "name": "stdout",
     "output_type": "stream",
     "text": [
      "Ошибка: недостаточно средств\n"
     ]
    },
    {
     "name": "stdin",
     "output_type": "stream",
     "text": [
      "Введите сумму для снятия со счета 40817xx33:  3\n"
     ]
    },
    {
     "name": "stdout",
     "output_type": "stream",
     "text": [
      "Ошибка: недостаточно средств\n"
     ]
    },
    {
     "name": "stdin",
     "output_type": "stream",
     "text": [
      "Введите сумму для снятия со счета 40817xx32:  123\n"
     ]
    },
    {
     "name": "stdout",
     "output_type": "stream",
     "text": [
      "Ошибка: недостаточно средств\n"
     ]
    },
    {
     "name": "stdin",
     "output_type": "stream",
     "text": [
      "Введите сумму для снятия со счета 40817xx2:  123\n"
     ]
    },
    {
     "name": "stdout",
     "output_type": "stream",
     "text": [
      "Со счёта 40817xx2 снято 123.0. Остаток: 1031.8650191675324\n"
     ]
    },
    {
     "name": "stdin",
     "output_type": "stream",
     "text": [
      "Введите сумму для снятия со счета 40817xx18:  12\n"
     ]
    },
    {
     "name": "stdout",
     "output_type": "stream",
     "text": [
      "Ошибка: недостаточно средств\n"
     ]
    },
    {
     "name": "stdin",
     "output_type": "stream",
     "text": [
      "Введите сумму для снятия со счета 40817xx6:  123\n"
     ]
    },
    {
     "name": "stdout",
     "output_type": "stream",
     "text": [
      "Со счёта 40817xx6 снято 123.0. Остаток: 605.0\n"
     ]
    },
    {
     "name": "stdin",
     "output_type": "stream",
     "text": [
      "Введите сумму для снятия со счета 40817xx33:  123\n"
     ]
    },
    {
     "name": "stdout",
     "output_type": "stream",
     "text": [
      "Ошибка: недостаточно средств\n"
     ]
    },
    {
     "name": "stdin",
     "output_type": "stream",
     "text": [
      "Введите сумму для снятия со счета 40817xx2:  123\n"
     ]
    },
    {
     "name": "stdout",
     "output_type": "stream",
     "text": [
      "Со счёта 40817xx2 снято 123.0. Остаток: 908.8650191675324\n"
     ]
    }
   ],
   "source": [
    "for _ in range(10):\n",
    "    account_id = random.choice(list(banechka))  \n",
    "    amount = float(input(f\"Введите сумму для снятия со счета {account_id}: \"))  \n",
    "    withdraw(banechka, account_id, amount)"
   ]
  },
  {
   "cell_type": "code",
   "execution_count": 85,
   "id": "c870e4a7-9590-40ec-ba49-5c318bc74137",
   "metadata": {},
   "outputs": [],
   "source": [
    "save_accounts(banechka)"
   ]
  },
  {
   "cell_type": "code",
   "execution_count": null,
   "id": "35e820eb-35b3-4ff6-adc8-e7235687961a",
   "metadata": {},
   "outputs": [],
   "source": []
  }
 ],
 "metadata": {
  "kernelspec": {
   "display_name": "Python 3 (ipykernel)",
   "language": "python",
   "name": "python3"
  },
  "language_info": {
   "codemirror_mode": {
    "name": "ipython",
    "version": 3
   },
   "file_extension": ".py",
   "mimetype": "text/x-python",
   "name": "python",
   "nbconvert_exporter": "python",
   "pygments_lexer": "ipython3",
   "version": "3.12.4"
  }
 },
 "nbformat": 4,
 "nbformat_minor": 5
}
